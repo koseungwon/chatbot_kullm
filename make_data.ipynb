{
 "cells": [
  {
   "cell_type": "code",
   "execution_count": 1,
   "id": "f3bec816",
   "metadata": {},
   "outputs": [],
   "source": [
    "# 최종\n",
    "import os\n",
    "import json\n",
    "\n",
    "folder_path = './data/origin'\n",
    "\n",
    "json_files = [file for file in os.listdir(folder_path) if file.endswith('.json')]\n",
    "\n",
    "extracted_texts = []\n",
    "\n",
    "\n",
    "for json_file in json_files:\n",
    "    json_file_path = os.path.join(folder_path, json_file)\n",
    "    \n",
    "    with open(json_file_path, 'r', encoding='utf-8') as file:\n",
    "        json_data = json.load(file)     \n",
    "        info_list = json_data.get(\"info\", [])\n",
    "        for info_item in info_list:\n",
    "            annotations = info_item.get(\"annotations\", {})\n",
    "            lines = annotations.get(\"lines\", [])\n",
    "            for line in lines:\n",
    "                text = line.get(\"text\", \"\")\n",
    "                extracted_texts.append(text)\n",
    "\n",
    "# output_file_path = 't2.json'\n",
    "# with open(output_file_path, 'w', encoding='utf-8') as output_file:\n",
    "#     for text in extracted_texts:\n",
    "#         output_file.write(text + '\\n')\n",
    "\n",
    "# print(f\"Extracted texts saved to {output_file_path}\")"
   ]
  },
  {
   "cell_type": "code",
   "execution_count": 46,
   "id": "1675964a",
   "metadata": {},
   "outputs": [
    {
     "name": "stdout",
     "output_type": "stream",
     "text": [
      "Dictionary saved as JSON file: output2.json\n"
     ]
    }
   ],
   "source": [
    "speaker_sentences = []\n",
    "\n",
    "for sentence in extracted_texts:\n",
    "    parts = sentence.split('.')\n",
    "    if len(parts) >= 2:\n",
    "        speaker = parts[0]\n",
    "        text = '. '.join(parts[1:])  # Reconstruct the sentence text\n",
    "        for i in range(len(speaker)):\n",
    "            speaker_sentences.append({'output':speaker[i],'input':\"\" ,'instruction':text})\n",
    "\n",
    "output_file_path = 'output2.json'\n",
    "\n",
    "# Save the dictionary as a JSON file\n",
    "with open(output_file_path, 'w', encoding='utf-8') as output_file:\n",
    "    json.dump(speaker_sentences, output_file, ensure_ascii=False, indent=2)\n",
    "\n",
    "print(f\"Dictionary saved as JSON file: {output_file_path}\")"
   ]
  },
  {
   "cell_type": "code",
   "execution_count": 55,
   "id": "42ac84ab",
   "metadata": {},
   "outputs": [
    {
     "name": "stdout",
     "output_type": "stream",
     "text": [
      "List of dictionaries saved as JSON file: output3.json\n"
     ]
    }
   ],
   "source": [
    "speaker_sentences = []\n",
    "current_instruction = None\n",
    "current_output = None\n",
    "\n",
    "for sentence in extracted_texts:\n",
    "    parts = sentence.split('.')\n",
    "    if len(parts) >= 2:\n",
    "        speaker = parts[0].strip()\n",
    "        text = '. '.join(parts[1:]).strip()  # Reconstruct the sentence text\n",
    "    \n",
    "    if speaker.startswith(\"A\"):\n",
    "        current_instruction = text\n",
    "        current_output = \"\"\n",
    "    elif speaker.startswith(\"B\"):\n",
    "#         current_instruction = \"\"\n",
    "        current_output = text\n",
    "        if current_output:  # Only add entry if output is not blank\n",
    "            speaker_sentences.append({'instruction': current_instruction, 'output': current_output, 'input': ''})\n",
    "\n",
    "output_file_path = 'output3.json'\n",
    "\n",
    "# Save the list of dictionaries as a JSON file\n",
    "with open(output_file_path, 'w', encoding='utf-8') as output_file:\n",
    "    json.dump(speaker_sentences, output_file, ensure_ascii=False, indent=2)\n",
    "\n",
    "print(f\"List of dictionaries saved as JSON file: {output_file_path}\")"
   ]
  },
  {
   "cell_type": "markdown",
   "id": "ccd83ee5",
   "metadata": {},
   "source": [
    "## Instruction B, Outut A"
   ]
  },
  {
   "cell_type": "code",
   "execution_count": 1,
   "id": "f90e0cb3",
   "metadata": {},
   "outputs": [],
   "source": [
    "# 최종\n",
    "import os\n",
    "import json\n",
    "\n",
    "folder_path = './data/origin'\n",
    "\n",
    "json_files = [file for file in os.listdir(folder_path) if file.endswith('.json')]\n",
    "\n",
    "extracted_texts = []\n",
    "\n",
    "\n",
    "for json_file in json_files:\n",
    "    json_file_path = os.path.join(folder_path, json_file)\n",
    "    \n",
    "    with open(json_file_path, 'r', encoding='utf-8') as file:\n",
    "        json_data = json.load(file)     \n",
    "        info_list = json_data.get(\"info\", [])\n",
    "        for info_item in info_list:\n",
    "            annotations = info_item.get(\"annotations\", {})\n",
    "            lines = annotations.get(\"lines\", [])\n",
    "            for line in lines:\n",
    "                text = line.get(\"text\", \"\")\n",
    "                extracted_texts.append(text)\n",
    "\n",
    "# output_file_path = 't2.json'\n",
    "# with open(output_file_path, 'w', encoding='utf-8') as output_file:\n",
    "#     for text in extracted_texts:\n",
    "#         output_file.write(text + '\\n')\n",
    "\n",
    "# print(f\"Extracted texts saved to {output_file_path}\")"
   ]
  },
  {
   "cell_type": "code",
   "execution_count": 2,
   "id": "919f722a",
   "metadata": {},
   "outputs": [
    {
     "name": "stdout",
     "output_type": "stream",
     "text": [
      "List of dictionaries saved as JSON file: output4.json\n"
     ]
    }
   ],
   "source": [
    "speaker_sentences = []\n",
    "current_instruction = None\n",
    "current_output = None\n",
    "\n",
    "for sentence in extracted_texts:\n",
    "    parts = sentence.split('.')\n",
    "    if len(parts) >= 2:\n",
    "        speaker = parts[0].strip()\n",
    "        text = '. '.join(parts[1:]).strip()  # Reconstruct the sentence text\n",
    "    \n",
    "    if speaker.startswith(\"B\"):\n",
    "        current_instruction = text\n",
    "        current_output = \"\"\n",
    "    elif speaker.startswith(\"A\"):\n",
    "#         current_instruction = \"\"\n",
    "        current_output = text\n",
    "        if current_output:  # Only add entry if output is not blank\n",
    "            speaker_sentences.append({'instruction': current_instruction, 'output': current_output, 'input': ''})\n",
    "\n",
    "output_file_path = 'output4.json'\n",
    "\n",
    "# Save the list of dictionaries as a JSON file\n",
    "with open(output_file_path, 'w', encoding='utf-8') as output_file:\n",
    "    json.dump(speaker_sentences, output_file, ensure_ascii=False, indent=2)\n",
    "\n",
    "print(f\"List of dictionaries saved as JSON file: {output_file_path}\")"
   ]
  },
  {
   "cell_type": "code",
   "execution_count": null,
   "id": "053fca1c",
   "metadata": {},
   "outputs": [],
   "source": []
  },
  {
   "cell_type": "code",
   "execution_count": 56,
   "id": "7d1b2b93",
   "metadata": {},
   "outputs": [],
   "source": [
    "# speaker_sentences = []\n",
    "\n",
    "# for sentence in extracted_texts:\n",
    "#     parts = sentence.split('. ')\n",
    "#     if len(parts) >= 2:\n",
    "#         speaker = parts[0]\n",
    "#         print(speaker)\n",
    "#         text = '. '.join(parts[1:])  # Reconstruct the sentence text\n",
    "#         for i in range(len(speaker)):\n",
    "#             speaker_sentences.append({'output':speaker[i],'input':\"\" ,'instruction':text})\n",
    "\n",
    "# print(len(speaker_sentences))\n",
    "\n",
    "# output_file_path = 'output.json'\n",
    "\n",
    "# # Save the dictionary as a JSON file\n",
    "# with open(output_file_path, 'w', encoding='utf-8') as output_file:\n",
    "#     json.dump(speaker_sentences, output_file, ensure_ascii=False, indent=2)\n",
    "\n",
    "# print(f\"Dictionary saved as JSON file: {output_file_path}\")"
   ]
  },
  {
   "cell_type": "code",
   "execution_count": 57,
   "id": "7b9d2506",
   "metadata": {},
   "outputs": [],
   "source": [
    "# # 코드 에러 확인\n",
    "\n",
    "# folder_path = './data/origin'\n",
    "\n",
    "# json_files = [file for file in os.listdir(folder_path) if file.endswith('.json')]\n",
    "\n",
    "# extracted_texts = []\n",
    "\n",
    "# for json_file in json_files:\n",
    "#     json_file_path = os.path.join(folder_path, json_file)\n",
    "    \n",
    "#     try:\n",
    "#         with open(json_file_path, 'r', encoding='utf-8') as file:\n",
    "#             json_data = json.load(file)\n",
    "#     except json.JSONDecodeError as e:\n",
    "#         print(f\"Error parsing {json_file_path}: {e}\")"
   ]
  },
  {
   "cell_type": "code",
   "execution_count": 58,
   "id": "9118a08b",
   "metadata": {},
   "outputs": [],
   "source": [
    "# speaker_sentences = {}\n",
    "\n",
    "# for sentence in extracted_texts:\n",
    "#     parts = sentence.split('. ')\n",
    "#     if len(parts) >= 2:\n",
    "#         speaker = parts[0]\n",
    "#         text = '. '.join(parts[1:])  # Reconstruct the sentence text\n",
    "#         if speaker not in speaker_sentences:\n",
    "#             speaker_sentences[speaker] = []\n",
    "#         speaker_sentences[speaker].append(text)"
   ]
  },
  {
   "cell_type": "code",
   "execution_count": null,
   "id": "1558e669",
   "metadata": {},
   "outputs": [],
   "source": []
  }
 ],
 "metadata": {
  "kernelspec": {
   "display_name": "Python 3 (ipykernel)",
   "language": "python",
   "name": "python3"
  },
  "language_info": {
   "codemirror_mode": {
    "name": "ipython",
    "version": 3
   },
   "file_extension": ".py",
   "mimetype": "text/x-python",
   "name": "python",
   "nbconvert_exporter": "python",
   "pygments_lexer": "ipython3",
   "version": "3.9.12"
  }
 },
 "nbformat": 4,
 "nbformat_minor": 5
}
